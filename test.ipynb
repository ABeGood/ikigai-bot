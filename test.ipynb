{
 "cells": [
  {
   "cell_type": "code",
   "execution_count": 1,
   "metadata": {},
   "outputs": [],
   "source": [
    "import google_sheets_api as gs\n",
    "import pandas as pd"
   ]
  },
  {
   "cell_type": "code",
   "execution_count": 2,
   "metadata": {},
   "outputs": [],
   "source": [
    "df = gs.read_table_to_df()"
   ]
  },
  {
   "cell_type": "code",
   "execution_count": 3,
   "metadata": {},
   "outputs": [
    {
     "data": {
      "text/html": [
       "<div>\n",
       "<style scoped>\n",
       "    .dataframe tbody tr th:only-of-type {\n",
       "        vertical-align: middle;\n",
       "    }\n",
       "\n",
       "    .dataframe tbody tr th {\n",
       "        vertical-align: top;\n",
       "    }\n",
       "\n",
       "    .dataframe thead th {\n",
       "        text-align: right;\n",
       "    }\n",
       "</style>\n",
       "<table border=\"1\" class=\"dataframe\">\n",
       "  <thead>\n",
       "    <tr style=\"text-align: right;\">\n",
       "      <th></th>\n",
       "      <th>CreationTime</th>\n",
       "      <th>OrderId</th>\n",
       "      <th>TelegramId</th>\n",
       "      <th>Name</th>\n",
       "      <th>Type</th>\n",
       "      <th>Place</th>\n",
       "      <th>Day</th>\n",
       "      <th>From</th>\n",
       "      <th>To</th>\n",
       "      <th>Period</th>\n",
       "      <th>Payed</th>\n",
       "    </tr>\n",
       "  </thead>\n",
       "  <tbody>\n",
       "    <tr>\n",
       "      <th>0</th>\n",
       "      <td>2024-08-02 21:28:35.000000</td>\n",
       "      <td>2024-08-03_3h_09-00_p1_468997622</td>\n",
       "      <td>468997622</td>\n",
       "      <td>Андрей</td>\n",
       "      <td>h</td>\n",
       "      <td>1</td>\n",
       "      <td>2024-08-03 00:00:00.000000</td>\n",
       "      <td>2024-08-03 09:00:00.000000</td>\n",
       "      <td>2024-08-03 12:00:00.000000</td>\n",
       "      <td>3</td>\n",
       "      <td>False</td>\n",
       "    </tr>\n",
       "    <tr>\n",
       "      <th>1</th>\n",
       "      <td>2024-08-02 21:32:36.227464</td>\n",
       "      <td>2024-08-03_3h_09-00_p2_468997622</td>\n",
       "      <td>468997622</td>\n",
       "      <td>Андрей</td>\n",
       "      <td>b</td>\n",
       "      <td>2</td>\n",
       "      <td>2024-08-03 00:00:00.000000</td>\n",
       "      <td>2024-08-03 09:00:00.000000</td>\n",
       "      <td>2024-08-03 12:00:00.000000</td>\n",
       "      <td>3</td>\n",
       "      <td>False</td>\n",
       "    </tr>\n",
       "    <tr>\n",
       "      <th>2</th>\n",
       "      <td>2024-08-02 21:58:45.699025</td>\n",
       "      <td>2024-08-03_1h_12-00_p1_468997622</td>\n",
       "      <td>468997622</td>\n",
       "      <td>Андрей</td>\n",
       "      <td>h</td>\n",
       "      <td>1</td>\n",
       "      <td>2024-08-03 00:00:00.000000</td>\n",
       "      <td>2024-08-03 12:00:00.000000</td>\n",
       "      <td>2024-08-03 13:00:00.000000</td>\n",
       "      <td>1</td>\n",
       "      <td>False</td>\n",
       "    </tr>\n",
       "    <tr>\n",
       "      <th>3</th>\n",
       "      <td>2024-08-02 22:40:06.262206</td>\n",
       "      <td>2024-08-03_3h_12-00_p2_468997622</td>\n",
       "      <td>468997622</td>\n",
       "      <td>Андрей</td>\n",
       "      <td>h</td>\n",
       "      <td>2</td>\n",
       "      <td>2024-08-03 00:00:00.000000</td>\n",
       "      <td>2024-08-03 12:00:00.000000</td>\n",
       "      <td>2024-08-03 15:00:00.000000</td>\n",
       "      <td>3</td>\n",
       "      <td>False</td>\n",
       "    </tr>\n",
       "  </tbody>\n",
       "</table>\n",
       "</div>"
      ],
      "text/plain": [
       "                 CreationTime                           OrderId TelegramId  \\\n",
       "0  2024-08-02 21:28:35.000000  2024-08-03_3h_09-00_p1_468997622  468997622   \n",
       "1  2024-08-02 21:32:36.227464  2024-08-03_3h_09-00_p2_468997622  468997622   \n",
       "2  2024-08-02 21:58:45.699025  2024-08-03_1h_12-00_p1_468997622  468997622   \n",
       "3  2024-08-02 22:40:06.262206  2024-08-03_3h_12-00_p2_468997622  468997622   \n",
       "\n",
       "     Name Type Place                         Day                        From  \\\n",
       "0  Андрей    h     1  2024-08-03 00:00:00.000000  2024-08-03 09:00:00.000000   \n",
       "1  Андрей    b     2  2024-08-03 00:00:00.000000  2024-08-03 09:00:00.000000   \n",
       "2  Андрей    h     1  2024-08-03 00:00:00.000000  2024-08-03 12:00:00.000000   \n",
       "3  Андрей    h     2  2024-08-03 00:00:00.000000  2024-08-03 12:00:00.000000   \n",
       "\n",
       "                           To Period  Payed  \n",
       "0  2024-08-03 12:00:00.000000      3  False  \n",
       "1  2024-08-03 12:00:00.000000      3  False  \n",
       "2  2024-08-03 13:00:00.000000      1  False  \n",
       "3  2024-08-03 15:00:00.000000      3  False  "
      ]
     },
     "execution_count": 3,
     "metadata": {},
     "output_type": "execute_result"
    }
   ],
   "source": [
    "df"
   ]
  },
  {
   "cell_type": "code",
   "execution_count": 6,
   "metadata": {},
   "outputs": [],
   "source": [
    "from googleapiclient.discovery import build\n",
    "from google_auth_oauthlib.flow import InstalledAppFlow\n",
    "from google.auth.transport.requests import Request\n",
    "from oauth2client.service_account import ServiceAccountCredentials\n",
    "from datetime import datetime, timedelta\n",
    "import os.path\n",
    "import pickle"
   ]
  },
  {
   "cell_type": "code",
   "execution_count": 7,
   "metadata": {},
   "outputs": [],
   "source": [
    "scope = ['https://www.googleapis.com/auth/spreadsheets',\n",
    "         'https://www.googleapis.com/auth/drive',\n",
    "         'https://www.googleapis.com/auth/calendar',]\n",
    "\n",
    "credentials = ServiceAccountCredentials.from_json_keyfile_name('ikigai-db-credentials.json', scope)"
   ]
  },
  {
   "cell_type": "code",
   "execution_count": 10,
   "metadata": {},
   "outputs": [
    {
     "name": "stdout",
     "output_type": "stream",
     "text": [
      "Fetching all calendars:\n",
      "[]\n"
     ]
    }
   ],
   "source": [
    "service = build('calendar', 'v3', credentials=credentials)\n",
    "\n",
    "# Feature 1: List all calendars\n",
    "print(\"Fetching all calendars:\")\n",
    "calendar_list = service.calendarList().list().execute().get('items', [])\n",
    "print(calendar_list)\n",
    "for calendar in calendar_list:\n",
    "    print(calendar['summary'])"
   ]
  },
  {
   "cell_type": "code",
   "execution_count": 12,
   "metadata": {},
   "outputs": [
    {
     "name": "stdout",
     "output_type": "stream",
     "text": [
      "Created calendar: f7566d56975c63b9fce4e8388d92c06efc902d6a22cde645ec5792a40aca01c8@group.calendar.google.com\n"
     ]
    }
   ],
   "source": [
    "# Feature 2: Create a new calendar\n",
    "new_calendar = {\n",
    "    'summary': 'Ikigai Reservations',\n",
    "    'timeZone': 'Europe/Prague'\n",
    "}\n",
    "created_calendar = service.calendars().insert(body=new_calendar).execute()\n",
    "print(f\"Created calendar: {created_calendar['id']}\")"
   ]
  },
  {
   "cell_type": "code",
   "execution_count": 17,
   "metadata": {},
   "outputs": [
    {
     "data": {
      "text/plain": [
       "{'kind': 'calendar#calendar',\n",
       " 'etag': '\"4WdwNCuqYdqj3kHPvxvx0GFbgvM\"',\n",
       " 'id': 'f7566d56975c63b9fce4e8388d92c06efc902d6a22cde645ec5792a40aca01c8@group.calendar.google.com',\n",
       " 'summary': 'Ikigai Reservations',\n",
       " 'timeZone': 'Europe/Prague'}"
      ]
     },
     "execution_count": 17,
     "metadata": {},
     "output_type": "execute_result"
    }
   ],
   "source": [
    "calendar = service.calendars().get(calendarId=created_calendar['id']).execute()\n",
    "# calendar.share('openzzggl@gmail.com', perm_type='user', role='writer')\n",
    "calendar"
   ]
  },
  {
   "cell_type": "code",
   "execution_count": 13,
   "metadata": {},
   "outputs": [
    {
     "name": "stdout",
     "output_type": "stream",
     "text": [
      "Created event: jtal9pan13lsbbdhiq3bddfsv0\n"
     ]
    }
   ],
   "source": [
    "# Feature 3: Insert an event\n",
    "event = {\n",
    "    'summary': 'AGvTest',\n",
    "    'location': '800 Howard St., San Francisco, CA 94103',\n",
    "    'description': 'A meeting to discuss Python projects.',\n",
    "    'start': {\n",
    "        'dateTime': (datetime.utcnow() + timedelta(days=1)).isoformat(),\n",
    "        'timeZone': 'America/Los_Angeles',\n",
    "    },\n",
    "    'end': {\n",
    "        'dateTime': (datetime.utcnow() + timedelta(days=1, hours=1)).isoformat(),\n",
    "        'timeZone': 'America/Los_Angeles',\n",
    "    },\n",
    "}\n",
    "created_event = service.events().insert(calendarId=created_calendar['id'], body=event).execute()\n",
    "print(f\"Created event: {created_event['id']}\")"
   ]
  }
 ],
 "metadata": {
  "kernelspec": {
   "display_name": ".venv",
   "language": "python",
   "name": "python3"
  },
  "language_info": {
   "codemirror_mode": {
    "name": "ipython",
    "version": 3
   },
   "file_extension": ".py",
   "mimetype": "text/x-python",
   "name": "python",
   "nbconvert_exporter": "python",
   "pygments_lexer": "ipython3",
   "version": "3.10.11"
  }
 },
 "nbformat": 4,
 "nbformat_minor": 2
}
