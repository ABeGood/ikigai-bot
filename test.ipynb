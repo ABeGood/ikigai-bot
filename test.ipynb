{
 "cells": [
  {
   "cell_type": "code",
   "execution_count": 1,
   "metadata": {},
   "outputs": [],
   "source": [
    "import google_sheets_api as gs\n",
    "import pandas as pd"
   ]
  },
  {
   "cell_type": "code",
   "execution_count": 2,
   "metadata": {},
   "outputs": [],
   "source": [
    "df = gs.read_table_to_df()"
   ]
  },
  {
   "cell_type": "code",
   "execution_count": 7,
   "metadata": {},
   "outputs": [
    {
     "data": {
      "text/plain": [
       "DatetimeIndex(['2018-04-09 06:00:00', '2018-04-09 06:30:00',\n",
       "               '2018-04-09 07:00:00', '2018-04-09 07:30:00',\n",
       "               '2018-04-09 08:00:00', '2018-04-09 08:30:00',\n",
       "               '2018-04-09 09:00:00', '2018-04-09 09:30:00',\n",
       "               '2018-04-09 10:00:00', '2018-04-09 10:30:00',\n",
       "               '2018-04-09 11:00:00', '2018-04-09 11:30:00',\n",
       "               '2018-04-09 12:00:00', '2018-04-09 12:30:00',\n",
       "               '2018-04-09 13:00:00', '2018-04-09 13:30:00',\n",
       "               '2018-04-09 14:00:00', '2018-04-09 14:30:00',\n",
       "               '2018-04-09 15:00:00', '2018-04-09 15:30:00',\n",
       "               '2018-04-09 16:00:00', '2018-04-09 16:30:00',\n",
       "               '2018-04-09 17:00:00', '2018-04-09 17:30:00',\n",
       "               '2018-04-09 18:00:00', '2018-04-09 18:30:00',\n",
       "               '2018-04-09 19:00:00', '2018-04-09 19:30:00',\n",
       "               '2018-04-09 20:00:00', '2018-04-09 20:30:00',\n",
       "               '2018-04-09 21:00:00', '2018-04-09 21:30:00',\n",
       "               '2018-04-09 22:00:00', '2018-04-09 22:30:00',\n",
       "               '2018-04-09 23:00:00', '2018-04-09 23:30:00'],\n",
       "              dtype='datetime64[ns]', freq='30min')"
      ]
     },
     "execution_count": 7,
     "metadata": {},
     "output_type": "execute_result"
    }
   ],
   "source": [
    "df = pd.date_range('2018-04-09 06:00', '2018-04-09 23:30', freq='30min')\n",
    "df"
   ]
  }
 ],
 "metadata": {
  "kernelspec": {
   "display_name": ".venv",
   "language": "python",
   "name": "python3"
  },
  "language_info": {
   "codemirror_mode": {
    "name": "ipython",
    "version": 3
   },
   "file_extension": ".py",
   "mimetype": "text/x-python",
   "name": "python",
   "nbconvert_exporter": "python",
   "pygments_lexer": "ipython3",
   "version": "3.10.11"
  }
 },
 "nbformat": 4,
 "nbformat_minor": 2
}
