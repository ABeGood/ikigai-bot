{
 "cells": [
  {
   "cell_type": "code",
   "execution_count": 1,
   "metadata": {},
   "outputs": [],
   "source": [
    "import google_sheets_api as gs"
   ]
  },
  {
   "cell_type": "code",
   "execution_count": 2,
   "metadata": {},
   "outputs": [],
   "source": [
    "df = gs.read_table_to_df()"
   ]
  },
  {
   "cell_type": "code",
   "execution_count": 4,
   "metadata": {},
   "outputs": [
    {
     "name": "stdout",
     "output_type": "stream",
     "text": [
      "  OrderId TelegramId    Name       Type         Day                 From  \\\n",
      "0          468997622  Андрей  hairstyle  2024-05-31  2024-05-31 10:00:00   \n",
      "1          468997622  Андрей      brows  2024-06-01  2024-06-01 14:30:00   \n",
      "2          468997622  Андрей      brows  2024-06-02  2024-06-02 10:30:00   \n",
      "3          468997622  Андрей  hairstyle  2024-05-30  2024-05-30 10:00:00   \n",
      "4          468997622  Андрей      brows  2024-07-31  2024-07-31 10:00:00   \n",
      "5          468997622  Андрей  hairstyle  2024-05-17  2024-05-17 14:30:00   \n",
      "\n",
      "                    To  Payed  \n",
      "0  2024-05-31 11:00:00  False  \n",
      "1  2024-06-01 17:30:00  False  \n",
      "2  2024-06-02 11:30:00  False  \n",
      "3  2024-05-30 13:00:00  False  \n",
      "4  2024-07-31 13:00:00  False  \n",
      "5  2024-05-17 16:30:00  False  \n"
     ]
    }
   ],
   "source": [
    "print(df)"
   ]
  }
 ],
 "metadata": {
  "kernelspec": {
   "display_name": ".venv",
   "language": "python",
   "name": "python3"
  },
  "language_info": {
   "codemirror_mode": {
    "name": "ipython",
    "version": 3
   },
   "file_extension": ".py",
   "mimetype": "text/x-python",
   "name": "python",
   "nbconvert_exporter": "python",
   "pygments_lexer": "ipython3",
   "version": "3.10.11"
  }
 },
 "nbformat": 4,
 "nbformat_minor": 2
}
